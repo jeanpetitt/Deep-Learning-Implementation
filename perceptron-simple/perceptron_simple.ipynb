{
  "nbformat": 4,
  "nbformat_minor": 0,
  "metadata": {
    "colab": {
      "provenance": [],
      "toc_visible": true
    },
    "kernelspec": {
      "name": "python3",
      "display_name": "Python 3"
    },
    "language_info": {
      "name": "python"
    }
  },
  "cells": [
    {
      "cell_type": "code",
      "execution_count": 39,
      "metadata": {
        "id": "jnk4RCG11CXw"
      },
      "outputs": [],
      "source": [
        "# @title Import dependancies\n",
        "import numpy as np\n",
        "import matplotlib.pyplot as plt\n",
        "from sklearn.datasets import make_blobs"
      ]
    },
    {
      "cell_type": "code",
      "source": [
        "# @title Create dataset with 100 datas and 2 variable\n",
        "x,y = make_blobs(n_samples=100, n_features=2, centers=2, random_state=0)\n",
        "y = y.reshape((y.shape[0], 1))\n",
        "\n",
        "# displays x and y dimensions\n",
        "print(\"dimension of x:\", x.shape)\n",
        "print(\"dimension of y:\", y.shape)\n",
        "\n",
        "plt.scatter(x[:,0], x[:,1], c=y, cmap=\"summer\")"
      ],
      "metadata": {
        "colab": {
          "base_uri": "https://localhost:8080/",
          "height": 482
        },
        "id": "R9iJViVZ16u3",
        "outputId": "a9c6ba88-0847-4242-c126-fad23960f787"
      },
      "execution_count": 40,
      "outputs": [
        {
          "output_type": "stream",
          "name": "stdout",
          "text": [
            "dimension of x: (100, 2)\n",
            "dimension of y: (100, 1)\n"
          ]
        },
        {
          "output_type": "execute_result",
          "data": {
            "text/plain": [
              "<matplotlib.collections.PathCollection at 0x7f4e636bea40>"
            ]
          },
          "metadata": {},
          "execution_count": 40
        },
        {
          "output_type": "display_data",
          "data": {
            "text/plain": [
              "<Figure size 640x480 with 1 Axes>"
            ],
            "image/png": "[encoded data removed]"
          },
          "metadata": {}
        }
      ]
    },
    {
      "cell_type": "code",
      "source": [
        "# @title createt initialization function\n",
        "\n",
        "def initialization(X):\n",
        "  \"\"\"\n",
        "  ceci nous donnera un vecteur W (2,1 ) car l'idée c'est d'avoir un vecteur\n",
        "  w qui contient autant de parametre qu'il y'a de variable\n",
        "  \"\"\"\n",
        "  W = np.random.randn(X.shape[1], 1)\n",
        "\n",
        "  \"\"\" pour le parametre b(biais) nous lui passons un nombre réel\n",
        "  car la fonction d'initialisation est z = w1x1 + w2x2 + b\n",
        "  \"\"\"\n",
        "  b = np.random.randn(1)\n",
        "\n",
        "  return (W, b)\n",
        "\n",
        "# test\n",
        "W, b = initialization(x)\n",
        "print(W.shape)\n",
        "print(b.shape)"
      ],
      "metadata": {
        "colab": {
          "base_uri": "https://localhost:8080/"
        },
        "id": "nbQmFLHn5CBq",
        "outputId": "a42399af-1ffe-4779-9cdd-a5f382fb2809"
      },
      "execution_count": 41,
      "outputs": [
        {
          "output_type": "stream",
          "name": "stdout",
          "text": [
            "(2, 1)\n",
            "(1,)\n"
          ]
        }
      ]
    },
    {
      "cell_type": "code",
      "source": [
        "# @title implement our model function\n",
        "def model(X, W, b):\n",
        "  \"\"\"\n",
        "    the first things we are doing is build Z function (Z= XW + b)\n",
        "    then we are compute activation function A = 1 / 1 + e(-Z)\n",
        "  \"\"\"\n",
        "  Z = X.dot(W) + b\n",
        "  A = 1 / (1 + np.exp(-Z))\n",
        "\n",
        "  return A\n",
        "\n",
        "A = model(x, W, b)\n",
        "A.shape"
      ],
      "metadata": {
        "colab": {
          "base_uri": "https://localhost:8080/"
        },
        "id": "AYXqIDmJ5Q6O",
        "outputId": "a02f5d27-8e2f-4228-9fab-d92bc25d9c42"
      },
      "execution_count": 42,
      "outputs": [
        {
          "output_type": "execute_result",
          "data": {
            "text/plain": [
              "(100, 1)"
            ]
          },
          "metadata": {},
          "execution_count": 42
        }
      ]
    },
    {
      "cell_type": "code",
      "source": [
        "# @title implement the Log Loss function(fonction coût)\n",
        "\n",
        "def log_loss(A, y):\n",
        "  \"\"\"\n",
        "    in theorie L = -1/m sum(log(ai)*yi + (1-yi)*log(1-ai))\n",
        "    m = number of data in our dataset then m = len(y)\n",
        "  \"\"\"\n",
        "  return  1 / len(y) * np.sum(-y * np.log(A) - (1 - y)*np.log(1 - A))\n",
        "\n",
        "  # this function return a real number which measure of error our model\n",
        "# test\n",
        "log_loss(A, y)"
      ],
      "metadata": {
        "colab": {
          "base_uri": "https://localhost:8080/"
        },
        "id": "pVzvkcEa5Q3g",
        "outputId": "59386e2c-f9cf-42a5-8334-25b0ac30517d"
      },
      "execution_count": 43,
      "outputs": [
        {
          "output_type": "execute_result",
          "data": {
            "text/plain": [
              "0.6627360478046863"
            ]
          },
          "metadata": {},
          "execution_count": 43
        }
      ]
    },
    {
      "cell_type": "code",
      "source": [
        "# @title Create Gradient function\n",
        "\n",
        "def gradients(A, x, y):\n",
        "  \"\"\"\n",
        "    we have two gradients the jacobien that we note dW and db( derivative of\n",
        "    log_loss function with respect to b)\n",
        "    dW = 1/m * trans(X).(A-Y)\n",
        "    db = 1 /m * sum(A-Y)\n",
        "  \"\"\"\n",
        "  dW = 1 / len(y) * np.dot(x.T, A-y)\n",
        "  db = 1 / len(y) * np.sum(A - y)\n",
        "  return (dW, db)\n",
        "# test\n",
        "dw,db= gradients(A, x, y)\n",
        "print(dw.shape)\n",
        "db"
      ],
      "metadata": {
        "colab": {
          "base_uri": "https://localhost:8080/"
        },
        "id": "UUEsO9XJ5Qyf",
        "outputId": "2d759e39-b592-4472-b6fe-bb23dd27e688"
      },
      "execution_count": 44,
      "outputs": [
        {
          "output_type": "stream",
          "name": "stdout",
          "text": [
            "(2, 1)\n"
          ]
        },
        {
          "output_type": "execute_result",
          "data": {
            "text/plain": [
              "-0.27293116229244374"
            ]
          },
          "metadata": {},
          "execution_count": 44
        }
      ]
    },
    {
      "cell_type": "code",
      "source": [
        "# @title build the update function\n",
        "\n",
        "\"\"\"\n",
        "this function take as input the gradients, W, b and learning rate\n",
        "\"\"\"\n",
        "def update(dW, db, W, b, learning_rate):\n",
        "  # nous allons implementer l'agorithme de la descencte de gradient\n",
        "  \"\"\"\n",
        "  wi = wi - a(dl/dwi)  a= learning rate and (dl/dwi) = dW\n",
        "  bi = bi - a(dl/dbi)  (dl/dbi) = db\n",
        "  \"\"\"\n",
        "  W = W - learning_rate * dW\n",
        "  b = b - learning_rate * db\n",
        "\n",
        "  return (W, b)\n",
        "\n",
        "# test\n",
        "W, b = update(dw, db, W, b, 2)\n",
        "W"
      ],
      "metadata": {
        "colab": {
          "base_uri": "https://localhost:8080/"
        },
        "id": "azrDPhZv5QvZ",
        "outputId": "1670a1df-f22f-4ca6-e3f1-5bed112b2fe6"
      },
      "execution_count": 50,
      "outputs": [
        {
          "output_type": "execute_result",
          "data": {
            "text/plain": [
              "array([[ 2.4362447 ],\n",
              "       [-0.35319447]])"
            ]
          },
          "metadata": {},
          "execution_count": 50
        }
      ]
    },
    {
      "cell_type": "code",
      "source": [
        "# @title build our Artificial neural\n",
        "\n",
        "\"\"\"\n",
        "  cette fonction va prendre en entré nos données x et y , un pas d'apprentissage\n",
        "  pour notre fonction de mise a jour et nombre d'iteration pour notre algo\n",
        "  d'apprentissage\n",
        "\"\"\"\n",
        "def artificial_neuron(X, y, learning_rate=0.5, n_iter=100):\n",
        "  # initialization of parameter w and b\n",
        "  W,b = initialization(X)\n",
        "\n",
        "  Loss = []\n",
        "  # create learning loop\n",
        "  for i in range(n_iter):\n",
        "    # launch result of our model\n",
        "    A = model(X, W, b)\n",
        "\n",
        "    # capture error of our model\n",
        "    Loss.append(log_loss(A, y))\n",
        "\n",
        "    #create dW, db gradient\n",
        "    dW,db = gradients(A, X, y)\n",
        "\n",
        "    # update W and b parameters\n",
        "    W, b = update(dW,db, W, b, learning_rate)\n",
        "\n",
        "  plt.plot(Loss)\n",
        "  plt.show()"
      ],
      "metadata": {
        "id": "D9_-fCB85QrR"
      },
      "execution_count": 55,
      "outputs": []
    },
    {
      "cell_type": "code",
      "source": [
        "artificial_neuron(x, y)"
      ],
      "metadata": {
        "colab": {
          "base_uri": "https://localhost:8080/",
          "height": 435
        },
        "id": "pcXe_j_v5Qff",
        "outputId": "f30a6e63-bfcf-4b34-a610-3e236a133957"
      },
      "execution_count": 56,
      "outputs": [
        {
          "output_type": "display_data",
          "data": {
            "text/plain": [
              "<Figure size 640x480 with 1 Axes>"
            ],
            "image/png": "[encoded data removed]"
          },
          "metadata": {}
        }
      ]
    },
    {
      "cell_type": "code",
      "source": [],
      "metadata": {
        "id": "ZfUikcCnvFp5"
      },
      "execution_count": null,
      "outputs": []
    },
    {
      "cell_type": "code",
      "source": [],
      "metadata": {
        "id": "BfIk-UsfvGFP"
      },
      "execution_count": null,
      "outputs": []
    },
    {
      "cell_type": "code",
      "source": [],
      "metadata": {
        "id": "DkVrnNu5vGUm"
      },
      "execution_count": null,
      "outputs": []
    }
  ]
}