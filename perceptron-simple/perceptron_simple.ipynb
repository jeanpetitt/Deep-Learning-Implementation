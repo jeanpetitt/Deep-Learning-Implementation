{
  "nbformat": 4,
  "nbformat_minor": 0,
  "metadata": {
    "colab": {
      "provenance": [],
      "toc_visible": true
    },
    "kernelspec": {
      "name": "python3",
      "display_name": "Python 3"
    },
    "language_info": {
      "name": "python"
    }
  },
  "cells": [
    {
      "cell_type": "code",
      "execution_count": 39,
      "metadata": {
        "id": "jnk4RCG11CXw"
      },
      "outputs": [],
      "source": [
        "# @title Import dependancies\n",
        "import numpy as np\n",
        "import matplotlib.pyplot as plt\n",
        "from sklearn.datasets import make_blobs"
      ]
    },
    {
      "cell_type": "code",
      "source": [
        "# @title Create dataset with 100 datas and 2 variable\n",
        "x,y = make_blobs(n_samples=100, n_features=2, centers=2, random_state=0)\n",
        "y = y.reshape((y.shape[0], 1))\n",
        "\n",
        "# displays x and y dimensions\n",
        "print(\"dimension of x:\", x.shape)\n",
        "print(\"dimension of y:\", y.shape)\n",
        "\n",
        "plt.scatter(x[:,0], x[:,1], c=y, cmap=\"summer\")"
      ],
      "metadata": {
        "colab": {
          "base_uri": "https://localhost:8080/",
          "height": 482
        },
        "id": "R9iJViVZ16u3",
        "outputId": "a9c6ba88-0847-4242-c126-fad23960f787"
      },
      "execution_count": 40,
      "outputs": [
        {
          "output_type": "stream",
          "name": "stdout",
          "text": [
            "dimension of x: (100, 2)\n",
            "dimension of y: (100, 1)\n"
          ]
        },
        {
          "output_type": "execute_result",
          "data": {
            "text/plain": [
              "<matplotlib.collections.PathCollection at 0x7f4e636bea40>"
            ]
          },
          "metadata": {},
          "execution_count": 40
        },
        {
          "output_type": "display_data",
          "data": {
            "text/plain": [
              "<Figure size 640x480 with 1 Axes>"
            ],
            "image/png": "[encoded data removed]"
          },
          "metadata": {}
        }
      ]
    },
    {
      "cell_type": "code",
      "source": [
        "# @title createt initialization function\n",
        "\n",
        "def initialization(X):\n",
        "  \"\"\"\n",
        "  ceci nous donnera un vecteur W (2,1 ) car l'idée c'est d'avoir un vecteur\n",
        "  w qui contient autant de parametre qu'il y'a de variable\n",
        "  \"\"\"\n",
        "  W = np.random.randn(X.shape[1], 1)\n",
        "\n",
        "  \"\"\" pour le parametre b(biais) nous lui passons un nombre réel\n",
        "  car la fonction d'initialisation est z = w1x1 + w2x2 + b\n",
        "  \"\"\"\n",
        "  b = np.random.randn(1)\n",
        "\n",
        "  return (W, b)\n",
        "\n",
        "# test\n",
        "W, b = initialization(x)\n",
        "print(W.shape)\n",
        "print(b.shape)"
      ],
      "metadata": {
        "colab": {
          "base_uri": "https://localhost:8080/"
        },
        "id": "nbQmFLHn5CBq",
        "outputId": "a42399af-1ffe-4779-9cdd-a5f382fb2809"
      },
      "execution_count": 41,
      "outputs": [
        {
          "output_type": "stream",
          "name": "stdout",
          "text": [
            "(2, 1)\n",
            "(1,)\n"
          ]
        }
      ]
    },
    {
      "cell_type": "code",
      "source": [
        "# @title implement our model function\n",
        "def model(X, W, b):\n",
        "  \"\"\"\n",
        "    the first things we are doing is build Z function (Z= XW + b)\n",
        "    then we are compute activation function A = 1 / 1 + e(-Z)\n",
        "  \"\"\"\n",
        "  Z = X.dot(W) + b\n",
        "  A = 1 / (1 + np.exp(-Z))\n",
        "\n",
        "  return A\n",
        "\n",
        "A = model(x, W, b)\n",
        "A.shape"
      ],
      "metadata": {
        "colab": {
          "base_uri": "https://localhost:8080/"
        },
        "id": "AYXqIDmJ5Q6O",
        "outputId": "a02f5d27-8e2f-4228-9fab-d92bc25d9c42"
      },
      "execution_count": 42,
      "outputs": [
        {
          "output_type": "execute_result",
          "data": {
            "text/plain": [
              "(100, 1)"
            ]
          },
          "metadata": {},
          "execution_count": 42
        }
      ]
    },
    {
      "cell_type": "code",
      "source": [
        "# @title implement the Log Loss function(fonction coût)\n",
        "\n",
        "def log_loss(A, y):\n",
        "  \"\"\"\n",
        "    in theorie L = -1/m sum(log(ai)*yi + (1-yi)*log(1-ai))\n",
        "    m = number of data in our dataset then m = len(y)\n",
        "  \"\"\"\n",
        "  return  1 / len(y) * np.sum(-y * np.log(A) - (1 - y)*np.log(1 - A))\n",
        "\n",
        "  # this function return a real number which measure of error our model\n",
        "# test\n",
        "log_loss(A, y)"
      ],
      "metadata": {
        "colab": {
          "base_uri": "https://localhost:8080/"
        },
        "id": "pVzvkcEa5Q3g",
        "outputId": "59386e2c-f9cf-42a5-8334-25b0ac30517d"
      },
      "execution_count": 43,
      "outputs": [
        {
          "output_type": "execute_result",
          "data": {
            "text/plain": [
              "0.6627360478046863"
            ]
          },
          "metadata": {},
          "execution_count": 43
        }
      ]
    },
    {
      "cell_type": "code",
      "source": [
        "# @title Create Gradient function\n",
        "\n",
        "def gradients(A, x, y):\n",
        "  \"\"\"\n",
        "    we have two gradients the jacobien that we note dW and db( derivative of\n",
        "    log_loss function with respect to b)\n",
        "    dW = 1/m * trans(X).(A-Y)\n",
        "    db = 1 /m * sum(A-Y)\n",
        "  \"\"\"\n",
        "  dW = 1 / len(y) * np.dot(x.T, A-y)\n",
        "  db = 1 / len(y) * np.sum(A - y)\n",
        "  return (dW, db)\n",
        "# test\n",
        "dw,db= gradients(A, x, y)\n",
        "print(dw.shape)\n",
        "db"
      ],
      "metadata": {
        "colab": {
          "base_uri": "https://localhost:8080/"
        },
        "id": "UUEsO9XJ5Qyf",
        "outputId": "2d759e39-b592-4472-b6fe-bb23dd27e688"
      },
      "execution_count": 44,
      "outputs": [
        {
          "output_type": "stream",
          "name": "stdout",
          "text": [
            "(2, 1)\n"
          ]
        },
        {
          "output_type": "execute_result",
          "data": {
            "text/plain": [
              "-0.27293116229244374"
            ]
          },
          "metadata": {},
          "execution_count": 44
        }
      ]
    },
    {
      "cell_type": "code",
      "source": [
        "# @title build the update function\n",
        "\n",
        "\"\"\"\n",
        "this function take as input the gradients, W, b and learning rate\n",
        "\"\"\"\n",
        "def update(dW, db, W, b, learning_rate):\n",
        "  # nous allons implementer l'agorithme de la descencte de gradient\n",
        "  \"\"\"\n",
        "  wi = wi - a(dl/dwi)  a= learning rate and (dl/dwi) = dW\n",
        "  bi = bi - a(dl/dbi)  (dl/dbi) = db\n",
        "  \"\"\"\n",
        "  W = W - learning_rate * dW\n",
        "  b = b - learning_rate * db\n",
        "\n",
        "  return (W, b)\n",
        "\n",
        "# test\n",
        "W, b = update(dw, db, W, b, 2)\n",
        "W"
      ],
      "metadata": {
        "colab": {
          "base_uri": "https://localhost:8080/"
        },
        "id": "azrDPhZv5QvZ",
        "outputId": "1670a1df-f22f-4ca6-e3f1-5bed112b2fe6"
      },
      "execution_count": 50,
      "outputs": [
        {
          "output_type": "execute_result",
          "data": {
            "text/plain": [
              "array([[ 2.4362447 ],\n",
              "       [-0.35319447]])"
            ]
          },
          "metadata": {},
          "execution_count": 50
        }
      ]
    },
    {
      "cell_type": "code",
      "source": [
        "# @title create a prediction function\n",
        "\n",
        "def predict(X, W, b):\n",
        "  # computer the output of the model (activation)\n",
        "  A = model(X, W, b)\n",
        "  print(A)\n",
        "  return A >= 0.5"
      ],
      "metadata": {
        "id": "bl5LXkIr2jX9"
      },
      "execution_count": 87,
      "outputs": []
    },
    {
      "cell_type": "code",
      "source": [
        "from sklearn.metrics import accuracy_score"
      ],
      "metadata": {
        "id": "xTu8-C1H6N39"
      },
      "execution_count": 88,
      "outputs": []
    },
    {
      "cell_type": "code",
      "source": [
        "# @title build our Artificial neural\n",
        "\n",
        "\"\"\"\n",
        "  cette fonction va prendre en entré nos données x et y , un pas d'apprentissage\n",
        "  pour notre fonction de mise a jour et nombre d'iteration pour notre algo\n",
        "  d'apprentissage\n",
        "\"\"\"\n",
        "def artificial_neuron(X, y, learning_rate=0.5, n_iter=100):\n",
        "  # initialization of parameter w and b\n",
        "  W,b = initialization(X)\n",
        "\n",
        "  Loss = []\n",
        "  # create learning loop\n",
        "  for i in range(n_iter):\n",
        "    # launch result of our model\n",
        "    A = model(X, W, b)\n",
        "\n",
        "    # capture error of our model\n",
        "    Loss.append(log_loss(A, y))\n",
        "\n",
        "    #create dW, db gradient\n",
        "    dW,db = gradients(A, X, y)\n",
        "\n",
        "    # update W and b parameters\n",
        "    W, b = update(dW,db, W, b, learning_rate)\n",
        "\n",
        "  # compute the preddiction of all data x in dataset\n",
        "  # en d'autre terme on calcul ce que la machine predit pour ces san valeurs\n",
        "  y_pred = predict(X,W, b)\n",
        "\n",
        "  # display the performance of our model in computing the accuracy metrics\n",
        "  print(accuracy_score(y, y_pred))\n",
        "\n",
        "  plt.plot(Loss)\n",
        "  plt.show()\n",
        "\n",
        "  # then return W and b parameter which model learned\n",
        "  return (W, b)"
      ],
      "metadata": {
        "id": "D9_-fCB85QrR"
      },
      "execution_count": 89,
      "outputs": []
    },
    {
      "cell_type": "code",
      "source": [
        "W, b = artificial_neuron(x, y)"
      ],
      "metadata": {
        "colab": {
          "base_uri": "https://localhost:8080/",
          "height": 1000
        },
        "id": "pcXe_j_v5Qff",
        "outputId": "a9301a7e-c8b9-42dc-ff2a-da1b311fea02"
      },
      "execution_count": 91,
      "outputs": [
        {
          "output_type": "stream",
          "name": "stdout",
          "text": [
            "[[9.75883578e-01]\n",
            " [9.33118673e-01]\n",
            " [1.59979783e-03]\n",
            " [1.92376755e-01]\n",
            " [9.85348545e-01]\n",
            " [3.69352230e-01]\n",
            " [3.65160228e-02]\n",
            " [9.59772377e-01]\n",
            " [2.64539187e-02]\n",
            " [9.69745818e-01]\n",
            " [1.31732310e-02]\n",
            " [9.62583674e-01]\n",
            " [6.68703034e-03]\n",
            " [8.00772668e-03]\n",
            " [8.38493577e-01]\n",
            " [9.90188133e-01]\n",
            " [9.98412505e-01]\n",
            " [2.07292077e-02]\n",
            " [9.22117077e-01]\n",
            " [8.13976278e-01]\n",
            " [1.66965538e-02]\n",
            " [1.61947546e-02]\n",
            " [4.63318561e-01]\n",
            " [1.45056265e-03]\n",
            " [9.85417889e-01]\n",
            " [1.16450289e-02]\n",
            " [9.77347815e-01]\n",
            " [1.38897548e-03]\n",
            " [2.52537936e-02]\n",
            " [8.12245029e-01]\n",
            " [9.96204335e-01]\n",
            " [1.70004487e-02]\n",
            " [8.67320251e-01]\n",
            " [9.96253804e-01]\n",
            " [4.29057020e-01]\n",
            " [1.28270527e-01]\n",
            " [9.19124493e-01]\n",
            " [5.94404049e-01]\n",
            " [4.45309576e-01]\n",
            " [6.83505500e-01]\n",
            " [7.20209246e-02]\n",
            " [1.45453099e-02]\n",
            " [1.33137941e-04]\n",
            " [1.17190805e-01]\n",
            " [2.08656575e-01]\n",
            " [9.20481079e-01]\n",
            " [9.94412276e-01]\n",
            " [9.94196683e-01]\n",
            " [1.70626199e-03]\n",
            " [2.13782331e-03]\n",
            " [9.86288884e-01]\n",
            " [7.84911393e-01]\n",
            " [6.86197275e-03]\n",
            " [1.24259889e-02]\n",
            " [8.18855566e-01]\n",
            " [1.55354418e-02]\n",
            " [7.03787296e-01]\n",
            " [9.38109994e-01]\n",
            " [9.79822702e-01]\n",
            " [9.98772731e-01]\n",
            " [8.03948243e-01]\n",
            " [9.62339588e-02]\n",
            " [1.26129389e-03]\n",
            " [9.68807130e-01]\n",
            " [2.81994283e-03]\n",
            " [3.78865302e-01]\n",
            " [2.33800593e-02]\n",
            " [5.58229992e-01]\n",
            " [9.71868048e-01]\n",
            " [2.03210243e-01]\n",
            " [1.36199561e-01]\n",
            " [9.82603490e-01]\n",
            " [9.82962028e-01]\n",
            " [4.87882137e-02]\n",
            " [1.46124810e-01]\n",
            " [2.17973286e-02]\n",
            " [7.15334646e-01]\n",
            " [9.25148081e-01]\n",
            " [2.85040634e-02]\n",
            " [1.23721909e-02]\n",
            " [2.88876728e-01]\n",
            " [5.95835407e-02]\n",
            " [1.14071782e-03]\n",
            " [5.11941693e-02]\n",
            " [9.09262665e-02]\n",
            " [4.68420786e-03]\n",
            " [9.90968891e-01]\n",
            " [1.56773406e-02]\n",
            " [9.37386779e-01]\n",
            " [9.87111314e-01]\n",
            " [9.46248283e-01]\n",
            " [9.95543605e-01]\n",
            " [5.86163286e-01]\n",
            " [9.90470512e-01]\n",
            " [1.83352960e-01]\n",
            " [4.08814532e-04]\n",
            " [9.97967785e-01]\n",
            " [9.86607227e-01]\n",
            " [5.29812166e-03]\n",
            " [6.03812913e-01]]\n",
            "0.92\n"
          ]
        },
        {
          "output_type": "display_data",
          "data": {
            "text/plain": [
              "<Figure size 640x480 with 1 Axes>"
            ],
            "image/png": "[encoded data removed]"
          },
          "metadata": {}
        }
      ]
    },
    {
      "cell_type": "code",
      "source": [
        "# @title Predict the class of the new_data not in our dataset\n",
        "new_data = np.array([2, 1])\n",
        "\n",
        "#  dessinons la frontiere de décision\n",
        "\"\"\"\n",
        "on sait A = 50% signifie qu'il existe un couple (x1, x2) pour lesquels z = 0\n",
        "z(x1,x2) = 0\n",
        "w1x1 + w2x2 + b = 0\n",
        "pour construire cette droite on a:\n",
        "X1  | X2\n",
        "-2|\n",
        " 08 |\n",
        "pour trouver les valeurs de x2 on se sert de l'équation précedente\n",
        "x2 = (-w1x1 - b) / w2\n",
        "\"\"\"\n",
        "x0 = np.linspace(-2, 4, 100)\n",
        "\n",
        "x1 = (-W[0] * x0 - b) / W[1]\n",
        "\n",
        "plt.scatter(x[:,0], x[:,1], c=y, cmap=\"summer\")\n",
        "plt.scatter(new_data[0], new_data[1], c=\"r\")\n",
        "plt.plot(x0, x1, c=\"orange\", lw=3)\n",
        "plt.show()\n",
        "\n",
        "predict(new_data, W, b)\n",
        "\"\"\"\n",
        "on constate que grace a cette frontière de décision\n",
        "la machine a predit que une perfomance du modèle sur les 100 données\n",
        "ce qui veut dire que si la performance est 92% alors 8 données ne s'aurait\n",
        "être du bon côté de la frontière de décision\n",
        "\"\"\""
      ],
      "metadata": {
        "colab": {
          "base_uri": "https://localhost:8080/",
          "height": 465
        },
        "id": "ZfUikcCnvFp5",
        "outputId": "f02ab190-cf90-41e6-ebd6-42f3c1d8aee9"
      },
      "execution_count": 92,
      "outputs": [
        {
          "output_type": "display_data",
          "data": {
            "text/plain": [
              "<Figure size 640x480 with 1 Axes>"
            ],
            "image/png": "[encoded data removed]"
          },
          "metadata": {}
        },
        {
          "output_type": "stream",
          "name": "stdout",
          "text": [
            "[0.95528246]\n"
          ]
        },
        {
          "output_type": "execute_result",
          "data": {
            "text/plain": [
              "array([ True])"
            ]
          },
          "metadata": {},
          "execution_count": 92
        }
      ]
    },
    {
      "cell_type": "code",
      "source": [],
      "metadata": {
        "id": "BfIk-UsfvGFP"
      },
      "execution_count": null,
      "outputs": []
    },
    {
      "cell_type": "code",
      "source": [],
      "metadata": {
        "id": "DkVrnNu5vGUm"
      },
      "execution_count": null,
      "outputs": []
    }
  ]
}